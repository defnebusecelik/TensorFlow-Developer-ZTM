{
 "cells": [
  {
   "cell_type": "markdown",
   "id": "0107438e",
   "metadata": {},
   "source": [
    "# 00_TensorFlow Fundamentals Exercises"
   ]
  },
  {
   "cell_type": "code",
   "execution_count": 2,
   "id": "7f128ea3",
   "metadata": {},
   "outputs": [],
   "source": [
    "import tensorflow as tf"
   ]
  },
  {
   "cell_type": "markdown",
   "id": "fcefed21",
   "metadata": {},
   "source": [
    "##### 1. Create a vector, scalar, matrix and tensor with values of your choosing"
   ]
  },
  {
   "cell_type": "code",
   "execution_count": 3,
   "id": "9d7c0404",
   "metadata": {},
   "outputs": [
    {
     "data": {
      "text/plain": [
       "(<tf.Tensor: shape=(), dtype=int32, numpy=7>,\n",
       " <tf.Tensor: shape=(3,), dtype=int32, numpy=array([1, 3, 2])>,\n",
       " <tf.Tensor: shape=(2, 4), dtype=int32, numpy=\n",
       " array([[1, 3, 1, 2],\n",
       "        [2, 4, 1, 1]])>,\n",
       " <tf.Tensor: shape=(2, 2, 4), dtype=int32, numpy=\n",
       " array([[[0, 4, 7, 1],\n",
       "         [2, 5, 8, 0]],\n",
       " \n",
       "        [[3, 6, 0, 9],\n",
       "         [2, 0, 4, 6]]])>)"
      ]
     },
     "execution_count": 3,
     "metadata": {},
     "output_type": "execute_result"
    }
   ],
   "source": [
    "vector = tf.constant([1,3,2])\n",
    "scalar = tf.constant(7)\n",
    "matrix = tf.constant([[1,3,1,2],[2,4,1,1]])\n",
    "tensor = tf.constant([[[0,4,7,1],[2,5,8,0]],[[3,6,0,9],[2,0,4,6]]])\n",
    "\n",
    "scalar,vector, matrix, tensor"
   ]
  },
  {
   "cell_type": "markdown",
   "id": "1d475fed",
   "metadata": {},
   "source": [
    "##### 2. Find the shape, rank and size of the tensors you created in 1."
   ]
  },
  {
   "cell_type": "code",
   "execution_count": 4,
   "id": "10a64043",
   "metadata": {},
   "outputs": [
    {
     "name": "stdout",
     "output_type": "stream",
     "text": [
      "The shape of the tensor: (2, 2, 4)\n",
      "The rank of the tensor: 16\n",
      "The rank of the tensor: 3\n"
     ]
    }
   ],
   "source": [
    "print(f'The shape of the tensor: {tensor.shape}')\n",
    "print(f'The rank of the tensor: {tf.size(tensor)}')\n",
    "print(f'The rank of the tensor: {tf.rank(tensor)}')"
   ]
  },
  {
   "cell_type": "markdown",
   "id": "694b6b25",
   "metadata": {},
   "source": [
    "##### 3. Create two tensors containing random values between 0 and 1 with shape [5, 300]."
   ]
  },
  {
   "cell_type": "code",
   "execution_count": 5,
   "id": "df4be786",
   "metadata": {},
   "outputs": [
    {
     "data": {
      "text/plain": [
       "(<tf.Tensor: shape=(5, 300), dtype=float32, numpy=\n",
       " array([[0.528823  , 0.27664876, 0.32517636, ..., 0.43363643, 0.5378666 ,\n",
       "         0.7005279 ],\n",
       "        [0.1258552 , 0.18286431, 0.26014984, ..., 0.10656118, 0.63404703,\n",
       "         0.60949004],\n",
       "        [0.992887  , 0.48227477, 0.5150981 , ..., 0.967713  , 0.49950612,\n",
       "         0.4830464 ],\n",
       "        [0.5565345 , 0.0011065 , 0.7171215 , ..., 0.30959845, 0.98127246,\n",
       "         0.4050467 ],\n",
       "        [0.35197592, 0.5999595 , 0.49482   , ..., 0.35136604, 0.24200666,\n",
       "         0.7471186 ]], dtype=float32)>,\n",
       " <tf.Tensor: shape=(5, 300), dtype=float32, numpy=\n",
       " array([[0.09688103, 0.5591841 , 0.973456  , ..., 0.6585617 , 0.8348553 ,\n",
       "         0.3433913 ],\n",
       "        [0.16670692, 0.07889605, 0.26343727, ..., 0.06876683, 0.96000874,\n",
       "         0.58784854],\n",
       "        [0.49491525, 0.74842024, 0.9352224 , ..., 0.6135709 , 0.22713745,\n",
       "         0.90821457],\n",
       "        [0.79737175, 0.47870624, 0.2576542 , ..., 0.6389637 , 0.69230354,\n",
       "         0.81039166],\n",
       "        [0.03430367, 0.7725494 , 0.9591342 , ..., 0.61330426, 0.73056185,\n",
       "         0.01469922]], dtype=float32)>)"
      ]
     },
     "execution_count": 5,
     "metadata": {},
     "output_type": "execute_result"
    }
   ],
   "source": [
    "tf.random.set_seed=13\n",
    "\n",
    "tensor1 = tf.random.uniform(shape=(5,300))\n",
    "tensor2=tf.random.uniform(shape=(5,300))\n",
    "\n",
    "tensor1, tensor2"
   ]
  },
  {
   "cell_type": "markdown",
   "id": "6ce81f18",
   "metadata": {},
   "source": [
    "##### 4. Multiply the two tensors you created in 3 using matrix multiplication."
   ]
  },
  {
   "cell_type": "code",
   "execution_count": 7,
   "id": "2d34ee88",
   "metadata": {},
   "outputs": [
    {
     "name": "stdout",
     "output_type": "stream",
     "text": [
      "(5, 300)\n",
      "(5, 300)\n"
     ]
    }
   ],
   "source": [
    "print(tensor1.shape)\n",
    "print(tensor2.shape)\n",
    "\n",
    "#have to transpose for matrix multiplication"
   ]
  },
  {
   "cell_type": "code",
   "execution_count": 11,
   "id": "e9cd0ee9",
   "metadata": {},
   "outputs": [
    {
     "data": {
      "text/plain": [
       "<tf.Tensor: shape=(5, 5), dtype=float32, numpy=\n",
       "array([[72.168945, 76.72226 , 78.953026, 77.369316, 78.256744],\n",
       "       [67.197296, 73.89367 , 74.25696 , 74.14812 , 75.17505 ],\n",
       "       [75.043175, 76.59996 , 76.60998 , 80.282845, 73.92431 ],\n",
       "       [70.02668 , 74.82189 , 73.08032 , 73.120125, 70.63795 ],\n",
       "       [77.34724 , 77.34846 , 77.34693 , 76.08661 , 75.10142 ]],\n",
       "      dtype=float32)>"
      ]
     },
     "execution_count": 11,
     "metadata": {},
     "output_type": "execute_result"
    }
   ],
   "source": [
    "multi_tensor=tf.matmul(tensor1, tf.transpose(tensor2))\n",
    "multi_tensor"
   ]
  },
  {
   "cell_type": "code",
   "execution_count": 9,
   "id": "73b205c3",
   "metadata": {},
   "outputs": [
    {
     "name": "stdout",
     "output_type": "stream",
     "text": [
      "(5, 5)\n"
     ]
    }
   ],
   "source": [
    "print(multi_tensor.shape)"
   ]
  },
  {
   "cell_type": "markdown",
   "id": "d740e95b",
   "metadata": {},
   "source": [
    "##### 5. Multiply the two tensors you created in 3 using dot product."
   ]
  },
  {
   "cell_type": "code",
   "execution_count": 12,
   "id": "89f2a2b1",
   "metadata": {},
   "outputs": [
    {
     "data": {
      "text/plain": [
       "<tf.Tensor: shape=(5, 5), dtype=float32, numpy=\n",
       "array([[72.168945, 76.72226 , 78.953026, 77.369316, 78.256744],\n",
       "       [67.197296, 73.89367 , 74.25696 , 74.14812 , 75.17505 ],\n",
       "       [75.043175, 76.59996 , 76.60998 , 80.282845, 73.92431 ],\n",
       "       [70.02668 , 74.82189 , 73.08032 , 73.120125, 70.63795 ],\n",
       "       [77.34724 , 77.34846 , 77.34693 , 76.08661 , 75.10142 ]],\n",
       "      dtype=float32)>"
      ]
     },
     "execution_count": 12,
     "metadata": {},
     "output_type": "execute_result"
    }
   ],
   "source": [
    "tf.tensordot(tensor1, tf.transpose(tensor2), axes=1)"
   ]
  },
  {
   "cell_type": "markdown",
   "id": "9762a953",
   "metadata": {},
   "source": [
    "##### 6. Create a tensor with random values between 0 and 1 with shape [224, 224, 3]."
   ]
  },
  {
   "cell_type": "code",
   "execution_count": 13,
   "id": "a00691de",
   "metadata": {},
   "outputs": [
    {
     "data": {
      "text/plain": [
       "<tf.Tensor: shape=(224, 224, 3), dtype=float32, numpy=\n",
       "array([[[0.37416458, 0.6307963 , 0.53541005],\n",
       "        [0.98208094, 0.73580396, 0.25518465],\n",
       "        [0.29207778, 0.14127958, 0.857793  ],\n",
       "        ...,\n",
       "        [0.7095814 , 0.8013557 , 0.09357834],\n",
       "        [0.85991514, 0.74908495, 0.3988005 ],\n",
       "        [0.1941812 , 0.569517  , 0.17335296]],\n",
       "\n",
       "       [[0.60314345, 0.6027242 , 0.9692625 ],\n",
       "        [0.859589  , 0.55369973, 0.9981142 ],\n",
       "        [0.24198568, 0.3361951 , 0.69956505],\n",
       "        ...,\n",
       "        [0.7916584 , 0.1495285 , 0.09814727],\n",
       "        [0.94855607, 0.49786448, 0.8443761 ],\n",
       "        [0.8216512 , 0.13430262, 0.4001999 ]],\n",
       "\n",
       "       [[0.8015156 , 0.2896229 , 0.5025139 ],\n",
       "        [0.76175666, 0.18244743, 0.79041755],\n",
       "        [0.4322121 , 0.85170746, 0.6054039 ],\n",
       "        ...,\n",
       "        [0.6030979 , 0.23060477, 0.45130384],\n",
       "        [0.42414057, 0.3098489 , 0.3137319 ],\n",
       "        [0.21056128, 0.9941344 , 0.9767755 ]],\n",
       "\n",
       "       ...,\n",
       "\n",
       "       [[0.889282  , 0.9033694 , 0.9165578 ],\n",
       "        [0.69199955, 0.47831047, 0.51771045],\n",
       "        [0.36411035, 0.78070354, 0.7840233 ],\n",
       "        ...,\n",
       "        [0.8210473 , 0.08043873, 0.55979943],\n",
       "        [0.7375319 , 0.877861  , 0.3657508 ],\n",
       "        [0.56438994, 0.29420745, 0.5856111 ]],\n",
       "\n",
       "       [[0.45153904, 0.93411505, 0.44725657],\n",
       "        [0.08973384, 0.69635725, 0.28195286],\n",
       "        [0.3208021 , 0.11359346, 0.64817667],\n",
       "        ...,\n",
       "        [0.9682795 , 0.5977731 , 0.75890994],\n",
       "        [0.3534056 , 0.03892374, 0.9039227 ],\n",
       "        [0.11497331, 0.62694395, 0.05114806]],\n",
       "\n",
       "       [[0.05888939, 0.13955033, 0.01631165],\n",
       "        [0.9287734 , 0.71771705, 0.35417497],\n",
       "        [0.6574606 , 0.46671295, 0.06597066],\n",
       "        ...,\n",
       "        [0.03458846, 0.25236428, 0.49023747],\n",
       "        [0.57612133, 0.60307336, 0.11009049],\n",
       "        [0.90009296, 0.08416498, 0.34676254]]], dtype=float32)>"
      ]
     },
     "execution_count": 13,
     "metadata": {},
     "output_type": "execute_result"
    }
   ],
   "source": [
    "new_tensor = tf.random.uniform(shape=[224,224,3], minval=0, maxval=1)\n",
    "new_tensor"
   ]
  },
  {
   "cell_type": "markdown",
   "id": "5da85f6e",
   "metadata": {},
   "source": [
    "##### 7. Find the min and max values of the tensor you created in 6."
   ]
  },
  {
   "cell_type": "code",
   "execution_count": 15,
   "id": "7bde060a",
   "metadata": {},
   "outputs": [
    {
     "name": "stdout",
     "output_type": "stream",
     "text": [
      "Maximum value: 0.999996542930603\n",
      "Minimum value: 9.5367431640625e-07\n"
     ]
    }
   ],
   "source": [
    "print(f'Maximum value: {tf.reduce_max(new_tensor)}')\n",
    "print(f'Minimum value: {tf.reduce_min(new_tensor)}')"
   ]
  },
  {
   "cell_type": "markdown",
   "id": "0462b0e7",
   "metadata": {},
   "source": [
    "##### 8. Created a tensor with random values of shape [1, 224, 224, 3] then squeeze it to change the shape to [224, 224, 3]."
   ]
  },
  {
   "cell_type": "code",
   "execution_count": 16,
   "id": "ce8a3c82",
   "metadata": {},
   "outputs": [
    {
     "data": {
      "text/plain": [
       "<tf.Tensor: shape=(1, 224, 224, 3), dtype=float32, numpy=\n",
       "array([[[[ 0.37944323, -0.6664026 ,  0.6054596 ],\n",
       "         [ 0.19181173,  0.8045827 ,  0.4769051 ],\n",
       "         [-0.7812124 , -0.996891  ,  0.33149973],\n",
       "         ...,\n",
       "         [ 0.9765769 , -1.0644387 , -0.15964095],\n",
       "         [ 0.20708817, -0.88769746, -0.4291407 ],\n",
       "         [ 1.0496043 ,  0.85257185,  0.36788857]],\n",
       "\n",
       "        [[ 0.5011535 , -0.448121  ,  0.3995735 ],\n",
       "         [-2.1588635 , -0.16122076, -1.040813  ],\n",
       "         [ 0.44564843, -1.1353635 ,  0.06766166],\n",
       "         ...,\n",
       "         [ 0.88542104, -0.5249761 , -0.3797743 ],\n",
       "         [-0.3626551 , -0.1668443 , -0.01824445],\n",
       "         [ 1.229008  ,  1.5113504 , -0.57362217]],\n",
       "\n",
       "        [[ 0.06148814, -0.43045416, -0.04233417],\n",
       "         [-1.3867607 , -1.276255  ,  0.01142067],\n",
       "         [ 0.34232524,  1.9177431 ,  1.5253149 ],\n",
       "         ...,\n",
       "         [ 1.1458824 , -1.2572527 ,  0.9534838 ],\n",
       "         [-0.79259014,  0.8151953 , -1.4620315 ],\n",
       "         [ 0.46462342, -0.9431774 , -0.3278202 ]],\n",
       "\n",
       "        ...,\n",
       "\n",
       "        [[ 0.6745915 , -0.096727  , -0.24837464],\n",
       "         [ 0.9515429 ,  0.9908571 ,  1.0963558 ],\n",
       "         [ 0.45272607,  1.9698889 , -0.26760525],\n",
       "         ...,\n",
       "         [-1.0043919 ,  0.48085147, -0.8104336 ],\n",
       "         [-0.8810062 , -1.0515335 , -0.48582068],\n",
       "         [ 0.2532643 ,  0.01301112, -1.435944  ]],\n",
       "\n",
       "        [[-1.8870946 ,  0.44666767, -0.11543112],\n",
       "         [ 0.90952563,  1.370444  ,  0.47370696],\n",
       "         [-1.2973896 ,  0.35398376,  0.16151763],\n",
       "         ...,\n",
       "         [ 0.20586321,  0.23082905, -0.96222705],\n",
       "         [ 0.46504816,  0.3843319 , -1.0541701 ],\n",
       "         [ 0.42160702, -0.26486108, -0.22292337]],\n",
       "\n",
       "        [[-0.0429575 ,  1.5418507 , -1.0788225 ],\n",
       "         [-1.6520306 , -1.0676736 ,  2.0270276 ],\n",
       "         [ 0.9142881 ,  0.44160095,  1.364829  ],\n",
       "         ...,\n",
       "         [ 1.4190975 , -2.0753984 ,  0.7190922 ],\n",
       "         [ 0.4374274 ,  0.7342138 ,  0.45999348],\n",
       "         [ 0.21139571, -0.19866176,  0.6408445 ]]]], dtype=float32)>"
      ]
     },
     "execution_count": 16,
     "metadata": {},
     "output_type": "execute_result"
    }
   ],
   "source": [
    "random_tensor = tf.random.Generator.from_seed(13)\n",
    "random_tensor = random_tensor.normal(shape=(1,224,224,3))\n",
    "random_tensor"
   ]
  },
  {
   "cell_type": "code",
   "execution_count": 17,
   "id": "113afc33",
   "metadata": {},
   "outputs": [
    {
     "name": "stdout",
     "output_type": "stream",
     "text": [
      "(1, 224, 224, 3)\n"
     ]
    }
   ],
   "source": [
    "print(random_tensor.shape)"
   ]
  },
  {
   "cell_type": "code",
   "execution_count": 18,
   "id": "bdca8725",
   "metadata": {},
   "outputs": [
    {
     "data": {
      "text/plain": [
       "<tf.Tensor: shape=(224, 224, 3), dtype=float32, numpy=\n",
       "array([[[ 0.37944323, -0.6664026 ,  0.6054596 ],\n",
       "        [ 0.19181173,  0.8045827 ,  0.4769051 ],\n",
       "        [-0.7812124 , -0.996891  ,  0.33149973],\n",
       "        ...,\n",
       "        [ 0.9765769 , -1.0644387 , -0.15964095],\n",
       "        [ 0.20708817, -0.88769746, -0.4291407 ],\n",
       "        [ 1.0496043 ,  0.85257185,  0.36788857]],\n",
       "\n",
       "       [[ 0.5011535 , -0.448121  ,  0.3995735 ],\n",
       "        [-2.1588635 , -0.16122076, -1.040813  ],\n",
       "        [ 0.44564843, -1.1353635 ,  0.06766166],\n",
       "        ...,\n",
       "        [ 0.88542104, -0.5249761 , -0.3797743 ],\n",
       "        [-0.3626551 , -0.1668443 , -0.01824445],\n",
       "        [ 1.229008  ,  1.5113504 , -0.57362217]],\n",
       "\n",
       "       [[ 0.06148814, -0.43045416, -0.04233417],\n",
       "        [-1.3867607 , -1.276255  ,  0.01142067],\n",
       "        [ 0.34232524,  1.9177431 ,  1.5253149 ],\n",
       "        ...,\n",
       "        [ 1.1458824 , -1.2572527 ,  0.9534838 ],\n",
       "        [-0.79259014,  0.8151953 , -1.4620315 ],\n",
       "        [ 0.46462342, -0.9431774 , -0.3278202 ]],\n",
       "\n",
       "       ...,\n",
       "\n",
       "       [[ 0.6745915 , -0.096727  , -0.24837464],\n",
       "        [ 0.9515429 ,  0.9908571 ,  1.0963558 ],\n",
       "        [ 0.45272607,  1.9698889 , -0.26760525],\n",
       "        ...,\n",
       "        [-1.0043919 ,  0.48085147, -0.8104336 ],\n",
       "        [-0.8810062 , -1.0515335 , -0.48582068],\n",
       "        [ 0.2532643 ,  0.01301112, -1.435944  ]],\n",
       "\n",
       "       [[-1.8870946 ,  0.44666767, -0.11543112],\n",
       "        [ 0.90952563,  1.370444  ,  0.47370696],\n",
       "        [-1.2973896 ,  0.35398376,  0.16151763],\n",
       "        ...,\n",
       "        [ 0.20586321,  0.23082905, -0.96222705],\n",
       "        [ 0.46504816,  0.3843319 , -1.0541701 ],\n",
       "        [ 0.42160702, -0.26486108, -0.22292337]],\n",
       "\n",
       "       [[-0.0429575 ,  1.5418507 , -1.0788225 ],\n",
       "        [-1.6520306 , -1.0676736 ,  2.0270276 ],\n",
       "        [ 0.9142881 ,  0.44160095,  1.364829  ],\n",
       "        ...,\n",
       "        [ 1.4190975 , -2.0753984 ,  0.7190922 ],\n",
       "        [ 0.4374274 ,  0.7342138 ,  0.45999348],\n",
       "        [ 0.21139571, -0.19866176,  0.6408445 ]]], dtype=float32)>"
      ]
     },
     "execution_count": 18,
     "metadata": {},
     "output_type": "execute_result"
    }
   ],
   "source": [
    "squeezed_tensor = tf.squeeze(random_tensor)\n",
    "squeezed_tensor"
   ]
  },
  {
   "cell_type": "markdown",
   "id": "451c49b4",
   "metadata": {},
   "source": [
    "##### 9. Create a tensor with shape [10] using your own choice of values, then find the index which has the maximum value."
   ]
  },
  {
   "cell_type": "code",
   "execution_count": 19,
   "id": "9b8f6167",
   "metadata": {},
   "outputs": [
    {
     "data": {
      "text/plain": [
       "<tf.Tensor: shape=(10,), dtype=int32, numpy=array([ 8, 13, 12, 24, 11, 99,  0, 78, 66, 45])>"
      ]
     },
     "execution_count": 19,
     "metadata": {},
     "output_type": "execute_result"
    }
   ],
   "source": [
    "my_tensor = tf.constant([8,13,12,24,11,99,0,78,66,45])\n",
    "my_tensor"
   ]
  },
  {
   "cell_type": "code",
   "execution_count": 20,
   "id": "58a9eb95",
   "metadata": {},
   "outputs": [],
   "source": [
    "max_index = tf.argmax(my_tensor)"
   ]
  },
  {
   "cell_type": "code",
   "execution_count": 21,
   "id": "8d17c935",
   "metadata": {},
   "outputs": [
    {
     "name": "stdout",
     "output_type": "stream",
     "text": [
      "The indices where the value is maximum: 5\n",
      "The maximum value was: 99\n"
     ]
    }
   ],
   "source": [
    "print(f'The indices where the value is maximum: {max_index}')\n",
    "print(f'The maximum value was: {my_tensor[max_index]}')"
   ]
  },
  {
   "cell_type": "markdown",
   "id": "0d815fb6",
   "metadata": {},
   "source": [
    "##### 10. One-hot encode the tensor you created in 9."
   ]
  },
  {
   "cell_type": "code",
   "execution_count": 22,
   "id": "3583175c",
   "metadata": {},
   "outputs": [
    {
     "data": {
      "text/plain": [
       "<tf.Tensor: shape=(10, 10), dtype=float32, numpy=\n",
       "array([[0., 0., 0., 0., 0., 0., 0., 0., 1., 0.],\n",
       "       [0., 0., 0., 0., 0., 0., 0., 0., 0., 0.],\n",
       "       [0., 0., 0., 0., 0., 0., 0., 0., 0., 0.],\n",
       "       [0., 0., 0., 0., 0., 0., 0., 0., 0., 0.],\n",
       "       [0., 0., 0., 0., 0., 0., 0., 0., 0., 0.],\n",
       "       [0., 0., 0., 0., 0., 0., 0., 0., 0., 0.],\n",
       "       [1., 0., 0., 0., 0., 0., 0., 0., 0., 0.],\n",
       "       [0., 0., 0., 0., 0., 0., 0., 0., 0., 0.],\n",
       "       [0., 0., 0., 0., 0., 0., 0., 0., 0., 0.],\n",
       "       [0., 0., 0., 0., 0., 0., 0., 0., 0., 0.]], dtype=float32)>"
      ]
     },
     "execution_count": 22,
     "metadata": {},
     "output_type": "execute_result"
    }
   ],
   "source": [
    "tf.one_hot(my_tensor, depth=10)"
   ]
  }
 ],
 "metadata": {
  "kernelspec": {
   "display_name": "Python 3 (ipykernel)",
   "language": "python",
   "name": "python3"
  },
  "language_info": {
   "codemirror_mode": {
    "name": "ipython",
    "version": 3
   },
   "file_extension": ".py",
   "mimetype": "text/x-python",
   "name": "python",
   "nbconvert_exporter": "python",
   "pygments_lexer": "ipython3",
   "version": "3.9.13"
  }
 },
 "nbformat": 4,
 "nbformat_minor": 5
}
